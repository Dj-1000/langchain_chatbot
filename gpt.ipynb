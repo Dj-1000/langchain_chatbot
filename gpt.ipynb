{
 "cells": [
  {
   "cell_type": "code",
   "execution_count": 8,
   "metadata": {},
   "outputs": [],
   "source": [
    "import getpass\n",
    "import os\n",
    "from dotenv import load_dotenv,find_dotenv\n",
    "\n",
    "load_dotenv(find_dotenv())\n",
    "\n",
    "from langchain_openai import ChatOpenAI\n",
    "\n",
    "model = ChatOpenAI(model=\"gpt-3.5-turbo\")\n",
    "import getpass\n",
    "import os\n",
    "\n",
    "os.environ[\"LANGCHAIN_TRACING_V2\"] = \"true\"\n"
   ]
  },
  {
   "cell_type": "code",
   "execution_count": 9,
   "metadata": {},
   "outputs": [],
   "source": [
    "from langchain_core.messages import HumanMessage, SystemMessage\n",
    "\n",
    "messages = [\n",
    "    SystemMessage(content=\"Translate the following from English into Italian\"),\n",
    "    HumanMessage(content=\"hi!\"),\n",
    "]\n",
    "\n",
    "result = model.invoke(messages)"
   ]
  },
  {
   "cell_type": "code",
   "execution_count": 10,
   "metadata": {},
   "outputs": [
    {
     "data": {
      "text/plain": [
       "'Ciao!'"
      ]
     },
     "execution_count": 10,
     "metadata": {},
     "output_type": "execute_result"
    }
   ],
   "source": [
    "from langchain_core.output_parsers import StrOutputParser\n",
    "\n",
    "parser = StrOutputParser()\n",
    "parser.invoke(result)"
   ]
  },
  {
   "cell_type": "code",
   "execution_count": 21,
   "metadata": {},
   "outputs": [],
   "source": [
    "from langchain_core.prompts import ChatPromptTemplate,MessagesPlaceholder"
   ]
  },
  {
   "cell_type": "code",
   "execution_count": 12,
   "metadata": {},
   "outputs": [
    {
     "data": {
      "text/plain": [
       "'ciao'"
      ]
     },
     "execution_count": 12,
     "metadata": {},
     "output_type": "execute_result"
    }
   ],
   "source": [
    "system_command = \"Translate the following into {language}:\"\n",
    "\n",
    "prompt_template = ChatPromptTemplate.from_messages(\n",
    "    [(\"system\", system_command), (\"user\", \"{text}\")]\n",
    ")\n",
    "result = prompt_template.invoke({\"language\": \"italian\", \"text\": \"hi\"})\n",
    "chain = prompt_template | model | parser\n",
    "\n",
    "chain.invoke({\"language\": \"italian\", \"text\": \"hi\"})\n"
   ]
  },
  {
   "cell_type": "code",
   "execution_count": 14,
   "metadata": {},
   "outputs": [
    {
     "data": {
      "text/plain": [
       "'{\"content\": \"Your name is Bob.\", \"additional_kwargs\": {}, \"response_metadata\": {\"token_usage\": {\"completion_tokens\": 5, \"prompt_tokens\": 35, \"total_tokens\": 40}, \"model_name\": \"gpt-4-0613\", \"system_fingerprint\": null, \"finish_reason\": \"stop\", \"logprobs\": null}, \"type\": \"ai\", \"name\": null, \"id\": \"run-004c25d5-2576-4deb-8614-4541398ce968-0\", \"example\": false, \"tool_calls\": [], \"invalid_tool_calls\": [], \"usage_metadata\": {\"input_tokens\": 35, \"output_tokens\": 5, \"total_tokens\": 40}}'"
      ]
     },
     "execution_count": 14,
     "metadata": {},
     "output_type": "execute_result"
    }
   ],
   "source": [
    "from langchain_core.messages import AIMessage\n",
    "\n",
    "res = model.invoke(\n",
    "    [\n",
    "        HumanMessage(content=\"Hi! I'm Bob\"),\n",
    "        AIMessage(content=\"Hello Bob! How can I assist you today?\"),\n",
    "        HumanMessage(content=\"What's my name?\"),\n",
    "    ]\n",
    ")\n",
    "res.json()"
   ]
  },
  {
   "cell_type": "code",
   "execution_count": 15,
   "metadata": {},
   "outputs": [],
   "source": [
    "## this is to store data in current session for the chatbot to remeber\n",
    "from langchain_core.chat_history import (\n",
    "    BaseChatMessageHistory,\n",
    "    InMemoryChatMessageHistory,\n",
    ")\n",
    "from langchain_core.runnables.history import RunnableWithMessageHistory\n",
    "\n",
    "store = {}\n",
    "\n",
    "\n",
    "def get_session_history(session_id: str) -> BaseChatMessageHistory:\n",
    "    if session_id not in store:\n",
    "        store[session_id] = InMemoryChatMessageHistory()\n",
    "    return store[session_id]\n",
    "\n",
    "\n",
    "with_message_history = RunnableWithMessageHistory(model, get_session_history)\n",
    "config = {\"configurable\": {\"session_id\": \"abc2\"}}"
   ]
  },
  {
   "cell_type": "code",
   "execution_count": 20,
   "metadata": {},
   "outputs": [
    {
     "name": "stdout",
     "output_type": "stream",
     "text": [
      "None\n"
     ]
    }
   ],
   "source": [
    "print(with_message_history.history_messages_key)"
   ]
  },
  {
   "cell_type": "code",
   "execution_count": null,
   "metadata": {},
   "outputs": [],
   "source": [
    "print(\"Say Something ..\")\n",
    "while True:\n",
    "    inp = input(\"Say something: \")\n",
    "    response = with_message_history.invoke(\n",
    "        [   \n",
    "            HumanMessage(content=inp)\n",
    "        ],\n",
    "        config=config,\n",
    "    )\n",
    "    print()\n",
    "    print(response.content)\n",
    "    choice = input(\"Are you done with the chatbot? (y/n): \")\n",
    "    if choice.lower() == \"y\":\n",
    "        break\n"
   ]
  },
  {
   "cell_type": "markdown",
   "metadata": {},
   "source": []
  },
  {
   "cell_type": "code",
   "execution_count": null,
   "metadata": {},
   "outputs": [],
   "source": [
    "def get_intent_scores(django_objects, user_query):\n",
    "    \n",
    "    prompt = \"\"\"\n",
    "    Task: You are given a list of Django model objects. Each object has a 'description' field. Your task is to\n",
    "    1. Extract the 'description' field from each object.\n",
    "    2. Understand the intent of the given user input query.\n",
    "    3. Match the intent of the user query with each folder description.\n",
    "    4. Return a dictionary where the keys are the 'name' values of the objects (treated as folder names) and the values are intent scores that indicate how well the user query matches each folder description\n",
    "    Scoring should be on a scale from 0 to 1, where 1 means a perfect match and 0 means no match\n",
    "    Example\n",
    "    Given Django model objects:\n",
    "    [\n",
    "      {\"id\": 2,\"name\": \"ProCare\",\"description\" :\"This folder contains all the documents related to the Pro Care project.\" ,\"parent_id\": \"1\"},\n",
    "      {\"id\": 3,\"name\": \"Financials\",\"description\" : \"This folder contains financial reports and documents related to the Pro Care project.\",\"parent_id\": \"1\"}\n",
    "    ]\n",
    "\n",
    "    User input query: \"Where can I find the financial documents?\n",
    "    Expected Output:\n",
    "    {\n",
    "      \"Reports\": 0.5,\n",
    "      \"Invoices\": 0.9,\n",
    "      \"Receipts\": 0.7\n",
    "    }\n",
    "    Now, given the following Django model objects and user input query, provide the required dictionary\n",
    "    Django model objects:\n",
    "    {django_objects}\n",
    "    \"\"\"\n",
    "    \n",
    "    template = ChatPromptTemplate.from_messages(\n",
    "        [\n",
    "            (\n",
    "                \"system\",\n",
    "                 prompt,\n",
    "            ),\n",
    "            MessagesPlaceholder(variable_name=\"messages\"),\n",
    "        ]\n",
    "    )\n",
    "\n",
    "    chain = template | model\n",
    "    response = chain.invoke(\n",
    "        {\"messages\": [HumanMessage(content=user_query)], \"django_objects\": django_objects}\n",
    "    )\n",
    "\n",
    "    return response.content\n"
   ]
  },
  {
   "cell_type": "code",
   "execution_count": null,
   "metadata": {},
   "outputs": [],
   "source": [
    "with_message_history = RunnableWithMessageHistory(\n",
    "    chain,\n",
    "    get_session_history,\n",
    "    input_messages_key=\"messages\",\n",
    ")\n",
    "response = with_message_history.invoke(\n",
    "    {\"messages\": [HumanMessage(content=\"hi! I'm todd\")], \"language\": \"Spanish\"},\n",
    "    config=config,\n",
    ")\n",
    "\n",
    "response.content"
   ]
  },
  {
   "cell_type": "code",
   "execution_count": 29,
   "metadata": {},
   "outputs": [],
   "source": [
    "prompt = f'''Task: You are given a list of Django model objects. Each object has a 'name' field. Your task is to extract the 'name' field from each object and create a description for each. Then, return a dictionary where the keys are the 'name' values (treated as folder names) and the values are the descriptions you create.\n",
    "\n",
    "Example:\n",
    "\n",
    "Given Django model objects:\n",
    "[\n",
    "  {\"id\": 2,\"name\": \"Reports\",\"parent_id\": \"1\"},\n",
    "  {\"id\": 3,\"name\": \"Financials\",\"created_at\": \"1\"}\n",
    "]\n",
    "\n",
    "Expected Output:\n",
    "{\n",
    "  \"Financial\": \"This folder contains all the reports related to the company and its financials.\",\n",
    "  \"Invoices\": \"This folder contains files related to the information related to the expenses company made in year (any)\",\n",
    "  \"Design Elements\": \"The folder contains the design elements realted to (certain) functionality of company.\n",
    "}\n",
    "\n",
    "Now, given the following Django model objects, provide the required dictionary: {objects}\n",
    "'''"
   ]
  },
  {
   "cell_type": "code",
   "execution_count": null,
   "metadata": {},
   "outputs": [],
   "source": [
    "from chat.models import File\n",
    "messages = [\n",
    "    SystemMessage(content=\"I have a django model named 'Folder' that has two fields, one is 'name' of type string and other is 'parent',that is a foreign key containing parent older of type self. I am providing you a list of objects of same type. What you have to do is extract 'name' field from those objects and create small description of about say 10 words using the folder name. Please try to understand the context of folder and then create descriptions. And I want you to return a dictionary containing folder names as keys and the description you created as values. The list of objects is {objects}.\")\n",
    "]\n",
    "objects = File.objects.all()\n",
    "result = model.invoke()"
   ]
  },
  {
   "cell_type": "code",
   "execution_count": null,
   "metadata": {},
   "outputs": [],
   "source": [
    "from chat.models import File\n",
    "objects = File.objects.all()"
   ]
  },
  {
   "cell_type": "code",
   "execution_count": null,
   "metadata": {},
   "outputs": [],
   "source": []
  },
  {
   "cell_type": "code",
   "execution_count": null,
   "metadata": {},
   "outputs": [],
   "source": [
    "prompt = f\"\"\"\n",
    "Task: You are given a list of Django model objects. Each object has a 'description' field. Your task is to\n",
    "1. Extract the 'description' field from each object.\n",
    "2. Understand the intent of the given user input query.\n",
    "3. Match the intent of the user query with each folder description.\n",
    "4. Return a dictionary where the keys are the 'name' values of the objects (treated as folder names) and the values are intent scores that indicate how well the user query matches each folder description\n",
    "Scoring should be on a scale from 0 to 1, where 1 means a perfect match and 0 means no match\n",
    "Example\n",
    "Given Django model objects:\n",
    "[\n",
    "  {\"id\": 2,\"name\": \"Reports\",\"parent_id\": \"1\"},\n",
    "  {\"id\": 3,\"name\": \"Financials\",\"created_at\": \"1\"}\n",
    "]\n",
    "\n",
    "User input query: \"Where can I find the financial documents?\n",
    "Expected Output:\n",
    "{\n",
    "  \"Reports\": 0.5,\n",
    "  \"Invoices\": 0.9,\n",
    "  \"Receipts\": 0.7\n",
    "}\n",
    "Now, given the following Django model objects and user input query, provide the required dictionary\n",
    "Django model objects:\n",
    "{django_objects}\n",
    "User input query: \"{user_query}\"\n",
    "\"\"\""
   ]
  }
 ],
 "metadata": {
  "kernelspec": {
   "display_name": "venv",
   "language": "python",
   "name": "python3"
  },
  "language_info": {
   "codemirror_mode": {
    "name": "ipython",
    "version": 3
   },
   "file_extension": ".py",
   "mimetype": "text/x-python",
   "name": "python",
   "nbconvert_exporter": "python",
   "pygments_lexer": "ipython3",
   "version": "3.10.14"
  }
 },
 "nbformat": 4,
 "nbformat_minor": 2
}
